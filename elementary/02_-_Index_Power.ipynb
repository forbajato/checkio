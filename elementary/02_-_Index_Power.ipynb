{
 "metadata": {
  "name": ""
 },
 "nbformat": 3,
 "nbformat_minor": 0,
 "worksheets": [
  {
   "cells": [
    {
     "cell_type": "markdown",
     "metadata": {},
     "source": [
      " You are given an array with positive numbers and a number N. You should find the N-th power of the element in the array with the index N. If N is outside of the array, then return -1. Don't forget that the first element has the index 0.\n",
      "\n",
      "Let's look at a few examples::\n",
      "- array = [1, 2, 3, 4] and N = 2, then the result is 32 == 9;\n",
      "- array = [1, 2, 3] and N = 3, but N is outside of the array, so the result is -1.\n",
      "\n",
      "Input: Two arguments. An array as a list of integers and a number as a integer.\n",
      "\n",
      "Output: The result as an integer.\n",
      "\n",
      "Example:\n",
      "\n",
      "index_power([1, 2, 3, 4], 2) == 9\n",
      "\n",
      "index_power([1, 3, 10, 100], 3) == 1000000\n",
      "\n",
      "index_power([0, 1], 0) == 1\n",
      "\n",
      "index_power([1, 2], 3) == -1\n",
      "\n",
      "How it is used: This mission teaches you how to use basic arrays and indexes when combined with simple mathematics.\n",
      "\n",
      "Precondition: 0 < len(array) \u2264 10\n",
      "0 \u2264 N\n",
      "all(0 \u2264 x \u2264 100 for x in array)"
     ]
    },
    {
     "cell_type": "code",
     "collapsed": false,
     "input": [
      "def index_power(input_array,n):\n",
      "    if n<len(input_array):\n",
      "        return input_array[n]**n\n",
      "    else: return -1"
     ],
     "language": "python",
     "metadata": {},
     "outputs": [],
     "prompt_number": 5
    },
    {
     "cell_type": "code",
     "collapsed": false,
     "input": [
      "#index_power([1,2,3,4],2)\n",
      "#index_power([1, 3, 10, 100], 3)\n",
      "#index_power([0, 1], 0)\n",
      "index_power([1, 2], 3)"
     ],
     "language": "python",
     "metadata": {},
     "outputs": [
      {
       "metadata": {},
       "output_type": "pyout",
       "prompt_number": 10,
       "text": [
        "-1"
       ]
      }
     ],
     "prompt_number": 10
    }
   ],
   "metadata": {}
  }
 ]
}