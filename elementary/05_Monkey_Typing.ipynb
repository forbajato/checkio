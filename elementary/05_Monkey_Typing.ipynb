{
 "metadata": {
  "name": ""
 },
 "nbformat": 3,
 "nbformat_minor": 0,
 "worksheets": [
  {
   "cells": [
    {
     "cell_type": "markdown",
     "metadata": {},
     "source": [
      " The infinite monkey theorem states that a monkey hitting keys at random on a typewriter keyboard for an infinite length of time will almost surely type out a given text, such as the complete works of John Wallis, or more likely, a Dan Brown novel.\n",
      "\n",
      "Let's suppose our monkeys are typing, typing and typing, and have produced a wide variety of short text segments. Let's try to check them for sensible word inclusions.\n",
      "\n",
      "You are given some text potentially including sensible words. You should count how many words are included in the given text. A word should be whole and may be a part of other word. Text letter case does not matter. Words are given in lowercase and don't repeat. If a word appears several times in the text, it should be counted only once.\n",
      "\n",
      "For example, text - \"How aresjfhdskfhskd you?\", words - (\"how\", \"are\", \"you\", \"hello\"). The result will be 3.\n",
      "\n",
      "Input: Two arguments. A text as a string (unicode for py2) and words as a set of strings (unicode for py2).\n",
      "\n",
      "Output: The number of words in the text as an integer.\n",
      "\n",
      "Example:\n",
      "\n",
      "count_words(\"How aresjfhdskfhskd you?\", {\"how\", \"are\", \"you\", \"hello\"}) == 3\n",
      "\n",
      "count_words(\"Bananas, give me bananas!!!\", {\"banana\", \"bananas\"}) == 2\n",
      "\n",
      "count_words(\"Lorem ipsum dolor sit amet, consectetuer adipiscing elit.\",\n",
      "\n",
      "            {\"sum\", \"hamlet\", \"infinity\", \"anything\"}) == 1\n",
      "\n",
      "How it is used: Python is a useful and powerful language for text processing. This mission is only a simple example of the kind of text searching tools you could build.\n",
      "\n",
      "Precondition:\n",
      "0 < len(text) \u2264 256\n",
      "all(3 \u2264 len(w) and w.islower() and w.isalpha for w in words) "
     ]
    },
    {
     "cell_type": "code",
     "collapsed": false,
     "input": [
      "def count_words(text, words):\n",
      "    #Need a counter - should figure out how to use the container module's Count class for this!\n",
      "    m = 0\n",
      "    #This construction looks like it could be a list comprehension instead\n",
      "    for word in words:\n",
      "        if text.lower().__contains__(word.lower()):\n",
      "            m += 1\n",
      "    return m\n",
      "\n",
      "def count_words2(text,words):\n",
      "    #Make a list of all the words in the set (words) that are also in the string (text) and then count the number of elements in the resulting list.\n",
      "    return len([word for word in words if text.lower().__contains__(word.lower())])\n",
      "\n",
      "\n",
      "if __name__ == '__main__':\n",
      "    #These \"asserts\" using only for self-checking and not necessary for auto-testing\n",
      "    assert count_words(\"How aresjfhdskfhskd you?\", {\"how\", \"are\", \"you\", \"hello\"}) == 3\n",
      "    assert count_words(\"Bananas, give me bananas!!!\", {\"banana\", \"bananas\"}) == 2\n",
      "    assert count_words(\"Lorem ipsum dolor sit amet, consectetuer adipiscing elit.\",\n",
      "                       {\"sum\", \"hamlet\", \"infinity\", \"anything\"}) == 1\n",
      "    assert count_words2(\"How aresjfhdskfhskd you?\", {\"how\", \"are\", \"you\", \"hello\"}) == 3\n",
      "    assert count_words2(\"Bananas, give me bananas!!!\", {\"banana\", \"bananas\"}) == 2\n",
      "    assert count_words2(\"Lorem ipsum dolor sit amet, consectetuer adipiscing elit.\",\n",
      "                       {\"sum\", \"hamlet\", \"infinity\", \"anything\"}) == 1"
     ],
     "language": "python",
     "metadata": {},
     "outputs": [],
     "prompt_number": 11
    },
    {
     "cell_type": "code",
     "collapsed": false,
     "input": [],
     "language": "python",
     "metadata": {},
     "outputs": []
    }
   ],
   "metadata": {}
  }
 ]
}