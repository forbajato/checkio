{
 "metadata": {
  "name": ""
 },
 "nbformat": 3,
 "nbformat_minor": 0,
 "worksheets": [
  {
   "cells": [
    {
     "cell_type": "markdown",
     "metadata": {},
     "source": [
      "You are given an array of integers. You should find the sum of the elements with even indexes (0th, 2nd, 4th...) then multiply this summed number and the final element of the array together. Don't forget that the first element has an index of 0.\n",
      "\n",
      "For an empty array, the result will always be 0 (zero).\n",
      "\n",
      "Input: A list of integers.\n",
      "\n",
      "Output: The number as an integer.\n",
      "\n",
      "Example:\n",
      "\n",
      "checkio([0, 1, 2, 3, 4, 5]) == 30\n",
      "\n",
      "checkio([1, 3, 5]) == 30\n",
      "\n",
      "checkio([6]) == 36\n",
      "\n",
      "checkio([]) == 0\n",
      "\n",
      "How it is used: Indexes and slices are important elements of coding in python and other languages. This will come in handy down the road!\n",
      "\n",
      "Precondition: 0 \u2264 len(array) \u2264 20\n",
      "all(isinstance(x, int) for x in array)\n",
      "all(-100 < x < 100 for x in array)"
     ]
    },
    {
     "cell_type": "code",
     "collapsed": false,
     "input": [
      "def checkio(array):\n",
      "    #First check to be sure you have some elements in the array, if you don't return 0\n",
      "    if len(array) == 0: return 0\n",
      "    else:\n",
      "        #Now slice off the last element in the array, that will return a list, get the first element of that list.\n",
      "        #Then you need to iterate over the array and find the even numbered items by index - enumerate really helps as it knows the index and the item value\n",
      "        #The list comprehension lets you go over the array, check if the index is even make a list of the even indexed elements.\n",
      "        #The sum function simply sums up the resulting list from the list comprehension.\n",
      "        return array[-1:][0] * sum([x for index, x in enumerate(array) if index%2 == 0])\n",
      "        \n",
      "assert checkio([0,1,2,3,4,5]) == 30\n",
      "assert checkio([1,3,5]) == 30\n",
      "assert checkio([6]) == 36\n",
      "assert checkio([]) == 0"
     ],
     "language": "python",
     "metadata": {},
     "outputs": [],
     "prompt_number": 9
    }
   ],
   "metadata": {}
  }
 ]
}