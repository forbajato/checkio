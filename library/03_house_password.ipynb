{
 "metadata": {
  "name": "03_house_password"
 },
 "nbformat": 3,
 "nbformat_minor": 0,
 "worksheets": [
  {
   "cells": [
    {
     "cell_type": "markdown",
     "metadata": {},
     "source": [
      "Code should check an input which will be a proposed password.  Input will pass (return TRUE) if the password meets the following criteria:\n",
      "\n",
      "1. Has at least one number\n",
      "\n",
      "1. Has at least 1 upper case character\n",
      "\n",
      "1. Has at least 1 lower case character\n",
      "\n",
      "1. Must have at least 10 symbols"
     ]
    },
    {
     "cell_type": "code",
     "collapsed": false,
     "input": [
      "print ord(u\"a\")\n",
      "print ord(u\"A\")\n",
      "print ord(u\"z\")\n",
      "print ord(u\"Z\")\n",
      "len(\"abcdefghij\")\n",
      "print ord(\"*\")\n",
      "chr(91)"
     ],
     "language": "python",
     "metadata": {},
     "outputs": [
      {
       "output_type": "stream",
       "stream": "stdout",
       "text": [
        "97\n",
        "65\n",
        "122\n",
        "90\n",
        "42\n"
       ]
      },
      {
       "output_type": "pyout",
       "prompt_number": 19,
       "text": [
        "'['"
       ]
      }
     ],
     "prompt_number": 19
    },
    {
     "cell_type": "code",
     "collapsed": false,
     "input": [
      "def checkio(pswd):\n",
      "    cond1, cond2, cond3, cond4 = 0,0,0,0\n",
      "    if len(pswd) >= 10:\n",
      "        cond1 = 1\n",
      "    for char in pswd:\n",
      "        if ord(char) in range(65,91):\n",
      "            cond2 = 1\n",
      "        elif ord(char) in range(97,123):\n",
      "            cond3 = 1\n",
      "        elif int(char):\n",
      "            cond4 = 1\n",
      "    if cond1+cond2+cond3+cond4 == 4:\n",
      "        return True\n",
      "    else: return False"
     ],
     "language": "python",
     "metadata": {},
     "outputs": [],
     "prompt_number": 32
    },
    {
     "cell_type": "code",
     "collapsed": false,
     "input": [],
     "language": "python",
     "metadata": {},
     "outputs": []
    },
    {
     "cell_type": "code",
     "collapsed": false,
     "input": [
      "for i in range(65,123):\n",
      "    print chr(i"
     ],
     "language": "python",
     "metadata": {},
     "outputs": [
      {
       "output_type": "stream",
       "stream": "stdout",
       "text": [
        "A\n",
        "B\n",
        "C\n",
        "D\n",
        "E\n",
        "F\n",
        "G\n",
        "H\n",
        "I\n",
        "J\n",
        "K\n",
        "L\n",
        "M\n",
        "N\n",
        "O\n",
        "P\n",
        "Q\n",
        "R\n",
        "S\n",
        "T\n",
        "U\n",
        "V\n",
        "W\n",
        "X\n",
        "Y\n",
        "Z\n",
        "[\n",
        "\\\n",
        "]\n",
        "^\n",
        "_\n",
        "`\n",
        "a\n",
        "b\n",
        "c\n",
        "d\n",
        "e\n",
        "f\n",
        "g\n",
        "h\n",
        "i\n",
        "j\n",
        "k\n",
        "l\n",
        "m\n",
        "n\n",
        "o\n",
        "p\n",
        "q\n",
        "r\n",
        "s\n",
        "t\n",
        "u\n",
        "v\n",
        "w\n",
        "x\n",
        "y\n",
        "z\n"
       ]
      }
     ],
     "prompt_number": 18
    },
    {
     "cell_type": "code",
     "collapsed": false,
     "input": [
      "checkio(u\"hadyagoingHuh*\")"
     ],
     "language": "python",
     "metadata": {},
     "outputs": [
      {
       "ename": "ValueError",
       "evalue": "invalid literal for int() with base 10: '*'",
       "output_type": "pyerr",
       "traceback": [
        "\u001b[0;31m---------------------------------------------------------------------------\u001b[0m\n\u001b[0;31mValueError\u001b[0m                                Traceback (most recent call last)",
        "\u001b[0;32m<ipython-input-37-4e9a03f2947f>\u001b[0m in \u001b[0;36m<module>\u001b[0;34m()\u001b[0m\n\u001b[0;32m----> 1\u001b[0;31m \u001b[0mcheckio\u001b[0m\u001b[0;34m(\u001b[0m\u001b[0;34mu\"hadyagoingHuh*\"\u001b[0m\u001b[0;34m)\u001b[0m\u001b[0;34m\u001b[0m\u001b[0m\n\u001b[0m",
        "\u001b[0;32m<ipython-input-32-7a0790f752cb>\u001b[0m in \u001b[0;36mcheckio\u001b[0;34m(pswd)\u001b[0m\n\u001b[1;32m      8\u001b[0m         \u001b[0;32melif\u001b[0m \u001b[0mord\u001b[0m\u001b[0;34m(\u001b[0m\u001b[0mchar\u001b[0m\u001b[0;34m)\u001b[0m \u001b[0;32min\u001b[0m \u001b[0mrange\u001b[0m\u001b[0;34m(\u001b[0m\u001b[0;36m97\u001b[0m\u001b[0;34m,\u001b[0m\u001b[0;36m123\u001b[0m\u001b[0;34m)\u001b[0m\u001b[0;34m:\u001b[0m\u001b[0;34m\u001b[0m\u001b[0m\n\u001b[1;32m      9\u001b[0m             \u001b[0mcond3\u001b[0m \u001b[0;34m=\u001b[0m \u001b[0;36m1\u001b[0m\u001b[0;34m\u001b[0m\u001b[0m\n\u001b[0;32m---> 10\u001b[0;31m         \u001b[0;32melif\u001b[0m \u001b[0mint\u001b[0m\u001b[0;34m(\u001b[0m\u001b[0mchar\u001b[0m\u001b[0;34m)\u001b[0m\u001b[0;34m:\u001b[0m\u001b[0;34m\u001b[0m\u001b[0m\n\u001b[0m\u001b[1;32m     11\u001b[0m             \u001b[0mcond4\u001b[0m \u001b[0;34m=\u001b[0m \u001b[0;36m1\u001b[0m\u001b[0;34m\u001b[0m\u001b[0m\n\u001b[1;32m     12\u001b[0m     \u001b[0;32mif\u001b[0m \u001b[0mcond1\u001b[0m\u001b[0;34m+\u001b[0m\u001b[0mcond2\u001b[0m\u001b[0;34m+\u001b[0m\u001b[0mcond3\u001b[0m\u001b[0;34m+\u001b[0m\u001b[0mcond4\u001b[0m \u001b[0;34m==\u001b[0m \u001b[0;36m4\u001b[0m\u001b[0;34m:\u001b[0m\u001b[0;34m\u001b[0m\u001b[0m\n",
        "\u001b[0;31mValueError\u001b[0m: invalid literal for int() with base 10: '*'"
       ]
      }
     ],
     "prompt_number": 37
    },
    {
     "cell_type": "markdown",
     "metadata": {},
     "source": [
      "This is interesting, an example of what I found on the published solutions site.  I need to spend time figuring out the s: not function.  How does this beast work?!?"
     ]
    },
    {
     "cell_type": "code",
     "collapsed": false,
     "input": [
      "checkio = lambda s: not(\n",
      "        len(s) < 10\n",
      "        or s.isdigit()\n",
      "        or s.isalpha()\n",
      "        or s.islower()\n",
      "        or s.isupper()\n",
      "    ) \n",
      "    \n",
      "checkio(\"tttttttttt\")"
     ],
     "language": "python",
     "metadata": {},
     "outputs": [
      {
       "output_type": "pyout",
       "prompt_number": 39,
       "text": [
        "False"
       ]
      }
     ],
     "prompt_number": 39
    }
   ],
   "metadata": {}
  }
 ]
}